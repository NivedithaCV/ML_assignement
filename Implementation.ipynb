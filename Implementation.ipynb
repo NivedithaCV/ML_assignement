{
 "cells": [
  {
   "cell_type": "code",
   "execution_count": 98,
   "id": "b44d8154",
   "metadata": {},
   "outputs": [],
   "source": [
    "import numpy as np\n",
    "from matplotlib import pyplot as plt\n",
    "import random\n",
    "import pandas as pd\n",
    "import sklearn.datasets\n",
    "from sklearn.model_selection import train_test_split"
   ]
  },
  {
   "cell_type": "code",
   "execution_count": 99,
   "id": "bddf4bd3",
   "metadata": {
    "scrolled": true
   },
   "outputs": [
    {
     "data": {
      "text/html": [
       "<div>\n",
       "<style scoped>\n",
       "    .dataframe tbody tr th:only-of-type {\n",
       "        vertical-align: middle;\n",
       "    }\n",
       "\n",
       "    .dataframe tbody tr th {\n",
       "        vertical-align: top;\n",
       "    }\n",
       "\n",
       "    .dataframe thead th {\n",
       "        text-align: right;\n",
       "    }\n",
       "</style>\n",
       "<table border=\"1\" class=\"dataframe\">\n",
       "  <thead>\n",
       "    <tr style=\"text-align: right;\">\n",
       "      <th></th>\n",
       "      <th>leftW</th>\n",
       "      <th>leftD</th>\n",
       "      <th>rightw</th>\n",
       "      <th>rightD</th>\n",
       "      <th>class</th>\n",
       "    </tr>\n",
       "  </thead>\n",
       "  <tbody>\n",
       "    <tr>\n",
       "      <th>0</th>\n",
       "      <td>1</td>\n",
       "      <td>1</td>\n",
       "      <td>1</td>\n",
       "      <td>1</td>\n",
       "      <td>B</td>\n",
       "    </tr>\n",
       "    <tr>\n",
       "      <th>1</th>\n",
       "      <td>1</td>\n",
       "      <td>1</td>\n",
       "      <td>1</td>\n",
       "      <td>2</td>\n",
       "      <td>R</td>\n",
       "    </tr>\n",
       "    <tr>\n",
       "      <th>2</th>\n",
       "      <td>1</td>\n",
       "      <td>1</td>\n",
       "      <td>1</td>\n",
       "      <td>3</td>\n",
       "      <td>R</td>\n",
       "    </tr>\n",
       "    <tr>\n",
       "      <th>3</th>\n",
       "      <td>1</td>\n",
       "      <td>1</td>\n",
       "      <td>1</td>\n",
       "      <td>4</td>\n",
       "      <td>R</td>\n",
       "    </tr>\n",
       "    <tr>\n",
       "      <th>4</th>\n",
       "      <td>1</td>\n",
       "      <td>1</td>\n",
       "      <td>1</td>\n",
       "      <td>5</td>\n",
       "      <td>R</td>\n",
       "    </tr>\n",
       "  </tbody>\n",
       "</table>\n",
       "</div>"
      ],
      "text/plain": [
       "   leftW  leftD  rightw  rightD class\n",
       "0      1      1       1       1     B\n",
       "1      1      1       1       2     R\n",
       "2      1      1       1       3     R\n",
       "3      1      1       1       4     R\n",
       "4      1      1       1       5     R"
      ]
     },
     "execution_count": 99,
     "metadata": {},
     "output_type": "execute_result"
    }
   ],
   "source": [
    "df=pd.read_csv(\"balance-scale data.csv\")\n",
    "df.head()"
   ]
  },
  {
   "cell_type": "code",
   "execution_count": 100,
   "id": "8d6fb94c",
   "metadata": {},
   "outputs": [
    {
     "data": {
      "image/png": "[encoded data removed]",
      "text/plain": [
       "<Figure size 432x288 with 1 Axes>"
      ]
     },
     "metadata": {
      "needs_background": "light"
     },
     "output_type": "display_data"
    },
    {
     "name": "stdout",
     "output_type": "stream",
     "text": [
      "(625, 4)\n",
      "[3 2 4 4]\n",
      "(157, 4)\n",
      "[-1, -1, 1, 1, 1, 1, 1, 1, 1, -1, 1, 1, -1, 1, 1, -1, 1, 1, -1, 1, 1, -1, 1, 1, 1, 1, 1, -1, 1, 1, -1, 1, -1, 1, -1, 1, -1, 1, 1, 1, -1, 1, -1, -1, -1, 1, -1, -1, -1, 1, 1, -1, 1, -1, -1, -1, 1, -1, 1, 1, 1, 1, 1, -1, -1, -1, 1, -1, 1, 1, -1, -1, -1, 1, -1, 1, -1, -1, 1, 1, -1, 1, 1, 1, -1, 1, 1, 1, 1, 1, 1, 1, 1, 1, -1, 1, 1, 1, 1, -1, 1, 1, 1, 1, -1, -1, 1, 1, -1, -1, 1, -1, -1, 1, 1, -1, 1, 1, 1, -1, 1, 1, 1, -1, -1, 1, -1, 1, 1, -1, -1, -1, 1, 1, 1, -1, -1, 1, -1, 1, 1, -1, 1, 1, 1, 1, -1, -1, -1, 1, 1, -1, 1, 1, -1, -1, 1]\n",
      "[3 2 4 4]\n"
     ]
    }
   ],
   "source": [
    "x=df.iloc[:,[0,1,2,3]].values\n",
    "Y=df[\"class\"]\n",
    "my_dict = {'B': 1, 'R': 1, 'L': -1}\n",
    "Y = [my_dict[zi] for zi in Y]\n",
    "len(x)\n",
    "df['class'].value_counts().plot(kind = \"barh\")\n",
    "plt.xlabel(\"Count\")\n",
    "plt.ylabel(\"Classes\")\n",
    "plt.show()\n",
    "print(np.shape(x))\n",
    "X_train, X_test, y_train, y_test = train_test_split(x, Y)\n",
    "print(X_train[1])\n",
    "print(np.shape(X_test))\n",
    "print(y_test)\n",
    "print(X_train[1])"
   ]
  },
  {
   "cell_type": "code",
   "execution_count": 101,
   "id": "7e072bc7",
   "metadata": {},
   "outputs": [
    {
     "name": "stdout",
     "output_type": "stream",
     "text": [
      "2\n"
     ]
    }
   ],
   "source": [
    "s=0\n",
    "s+=2\n",
    "print(s)\n",
    "#X_train, X_test, Y_train, Y_test = train_test_split(x,Y, test_size = 0.1, stratify = Y, random_state = 1)\n"
   ]
  },
  {
   "cell_type": "code",
   "execution_count": 102,
   "id": "0474d354",
   "metadata": {},
   "outputs": [],
   "source": [
    "x=X_train\n",
    "Y=y_train\n",
    "\n",
    "threshold=0\n",
    "learning_rate=1\n",
    "epoch=2\n",
    "def Activation(o):\n",
    "    if o<0:\n",
    "        return(-1)\n",
    "    if o>=0:\n",
    "        return(1)\n"
   ]
  },
  {
   "cell_type": "code",
   "execution_count": 104,
   "id": "3499d66f",
   "metadata": {},
   "outputs": [
    {
     "data": {
      "image/png": "[encoded data removed]",
      "text/plain": [
       "<Figure size 432x288 with 1 Axes>"
      ]
     },
     "metadata": {
      "needs_background": "light"
     },
     "output_type": "display_data"
    }
   ],
   "source": [
    "Accuracy=[]\n",
    "e=[2,100,150,500,1000]\n",
    "for epoch in e:\n",
    "    a=np.zeros(len(x))\n",
    "    w=np.zeros(4)\n",
    "    b=0\n",
    "    for k in range(1,epoch):\n",
    "        for i in range(len(x)):\n",
    "            sum=0\n",
    "            a[i]=Activation(np.sum((x[i]*w))+b)\n",
    "            if (Y[i]*a[i])<=0:\n",
    "                w=w+(0.5*np.multiply(Y[i],x[i]))\n",
    "                b=b+Y[i]\n",
    "                a[i]=Activation(np.sum(x[i]*w)+b)    \n",
    "\n",
    "    #print(a==Y)\n",
    "    x_t=X_test\n",
    "    Y_prd=np.zeros(len(y_test))\n",
    "    for l in range(len(X_test)):\n",
    "        Y_prd[l]=Activation(np.sum((x_t[l]*w))+b)\n",
    "\n",
    "    A=np.asarray(Y_prd==y_test)\n",
    "\n",
    "    Efficiency=A.sum()/len(y_test)\n",
    "    Accuracy.append(Efficiency*100)\n",
    "\n",
    "plt.plot(e,Accuracy)\n",
    "plt.show()"
   ]
  },
  {
   "cell_type": "code",
   "execution_count": 63,
   "id": "ea559424",
   "metadata": {},
   "outputs": [
    {
     "name": "stdout",
     "output_type": "stream",
     "text": [
      "95.54140127388536\n"
     ]
    }
   ],
   "source": []
  },
  {
   "cell_type": "code",
   "execution_count": 120,
   "id": "e7acc137",
   "metadata": {
    "scrolled": true
   },
   "outputs": [
    {
     "data": {
      "image/png": "[encoded data removed]",
      "text/plain": [
       "<Figure size 432x288 with 1 Axes>"
      ]
     },
     "metadata": {
      "needs_background": "light"
     },
     "output_type": "display_data"
    }
   ],
   "source": [
    "#Average perceptron\n",
    "\n",
    "threshold=0\n",
    "learning_rate=1\n",
    "epoch=2\n",
    "def Activation(o):\n",
    "    if o<0:\n",
    "        return(-1)\n",
    "    if o>=0:\n",
    "        return(1)\n",
    "count_w=0\n",
    "count_b=0\n",
    "\n",
    "e_=[2,10,56,300,1000]\n",
    "A_=[]\n",
    "for epo in e_:\n",
    "    for k in range(0,epo):\n",
    "        a=np.zeros(len(x))\n",
    "        w=np.zeros(4)\n",
    "        w_i=[]\n",
    "        w_c=[]\n",
    "        b_i=[]\n",
    "        b_c=[]\n",
    "        b=0\n",
    "        \n",
    "        for i in range(len(x)):\n",
    "            sum=0\n",
    "            z=0\n",
    "            count_w+=1\n",
    "            count_b+=1\n",
    "\n",
    "            a[i]=Activation(np.sum((x[i]*np.sum((w)+b))))\n",
    "            if (Y[i]*a[i])<=0:\n",
    "                w_c.append(count_w)\n",
    "                b_c.append(count_w)\n",
    "                w=w+(0.5*np.multiply(Y[i],x[i]))\n",
    "                w_i.append(w)\n",
    "                count_w=0\n",
    "                b=b+Y[i]\n",
    "                b_i.append(b)\n",
    "                a[i]=Activation(np.sum((x[i]*np.sum((w))+b)))\n",
    "                count_b=0\n",
    "\n",
    "#print(a==Y)\n",
    "#print(np.where(a!=Y))#print(y)\n",
    "    x_t=X_test\n",
    "    cw=np.zeros(4)\n",
    "    cb=np.zeros(1)\n",
    "\n",
    "    Y_prd=np.zeros(len(y_test))\n",
    "    wp=np.asarray(w_i)\n",
    "    wp_=np.asarray(w_c)\n",
    "    bp=np.asarray(b_i)\n",
    "    bp_=np.asarray(b_c)\n",
    "    for h in range((len(wp))):\n",
    "        cw+=bp[h]*bp_[h]\n",
    "    for r in range((len(bp))):\n",
    "        cb+=bp[r]*bp_[r]\n",
    "    for l in range(len(X_test)):\n",
    "        Y_prd[l]=Activation(np.sum((x_t[l]*w))+b)\n",
    "    \n",
    "    A=np.asarray(Y_prd==y_test)\n",
    "\n",
    "    Efficiency=A.sum()/len(y_test)\n",
    "    A_.append(Efficiency*100)\n",
    "plt.plot(e_,A_)\n",
    "plt.show()\n"
   ]
  }
 ],
 "metadata": {
  "kernelspec": {
   "display_name": "Python 3 (ipykernel)",
   "language": "python",
   "name": "python3"
  },
  "language_info": {
   "codemirror_mode": {
    "name": "ipython",
    "version": 3
   },
   "file_extension": ".py",
   "mimetype": "text/x-python",
   "name": "python",
   "nbconvert_exporter": "python",
   "pygments_lexer": "ipython3",
   "version": "3.9.6"
  }
 },
 "nbformat": 4,
 "nbformat_minor": 5
}
